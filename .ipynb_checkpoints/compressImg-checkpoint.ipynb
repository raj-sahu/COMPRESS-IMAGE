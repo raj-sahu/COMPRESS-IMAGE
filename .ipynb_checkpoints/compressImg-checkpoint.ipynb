{
 "cells": [
  {
   "cell_type": "code",
   "execution_count": 1,
   "metadata": {},
   "outputs": [],
   "source": [
    "import sys, os\n",
    "import numpy as np\n",
    "import scipy \n",
    "import matplotlib.pyplot as plt\n",
    "from sklearn import decomposition\n",
    "from PIL import Image\n",
    "import warnings\n",
    "warnings.filterwarnings(\"ignore\")\n",
    "from ipywidgets import interact,interactive,fixed,interact_manual,IntSlider\n",
    "import ipywidgets as widgets"
   ]
  },
  {
   "cell_type": "code",
   "execution_count": 2,
   "metadata": {},
   "outputs": [],
   "source": [
    "def plt_images(img,x):\n",
    "    print(img.shape)\n",
    "    x.imshow(img)\n",
    "\n",
    "#def rgb2gray(rgb):\n",
    "#    return np.dot(rgb[...,:3], [0.299, 0.587, 0.114])\n",
    "#from matplotlib import image\n",
    "#img=image.imread('test1.png')\n",
    "#plt_images(img)\n",
    "#img=rgb2gray(img)\n",
    "#plt_images(img)"
   ]
  },
  {
   "cell_type": "code",
   "execution_count": 3,
   "metadata": {
    "tags": []
   },
   "outputs": [
    {
     "data": {
      "application/vnd.jupyter.widget-view+json": {
       "model_id": "06075d8cea3f4e188ad6bda88d72898e",
       "version_major": 2,
       "version_minor": 0
      },
      "text/plain": [
       "interactive(children=(Dropdown(description='img', options=('1.jpg', '3.jpg'), value='1.jpg'), IntSlider(value=…"
      ]
     },
     "metadata": {},
     "output_type": "display_data"
    }
   ],
   "source": [
    "@interact\n",
    "def svd(img=os.listdir('images'),k=IntSlider(value=50,min=1,max=250,step=1,description='NO OF COMPONENTS:',\\\n",
    "                                             style={'description_width': 'initial', 'width': '2000px'},continuous_update=False,orientation='horizontal',layout=dict(width='95%'))):\n",
    "        \n",
    "    fig,a =  plt.subplots(1,2,figsize=(14,14))\n",
    "    a[0].set_title(\"COMPRESSED IMAGE\")\n",
    "    a[1].set_title(\"ORIGNAL IMAGE\")\n",
    "    dims=(600,600)\n",
    "    im =  np.array(Image.open(os.path.join('images',img)).convert('L').resize(dims))\n",
    "    im=im/255.0\n",
    "    plt_images(im,a[1])\n",
    "    \n",
    "    u, s, v = decomposition.randomized_svd(im, k)\n",
    "    low_rank = u @ np.diag(s) @ v\n",
    "    plt_images(low_rank,a[0])\n",
    "    plt.show()\n",
    "    data_needed=k*dims[0]+dims[1]*k+k#size of v,d +k\n",
    "    print(\"\\t\\tUSING {} COMPONENTs and {} DATA POINTS OUT OF ORIGNAL {} POINTS.\".format(k,data_needed,dims[0]*dims[1]))\n"
   ]
  },
  {
   "cell_type": "code",
   "execution_count": 4,
   "metadata": {},
   "outputs": [
    {
     "data": {
      "application/vnd.jupyter.widget-view+json": {
       "model_id": "a256c7d7669c4940b1a8f503648d453b",
       "version_major": 2,
       "version_minor": 0
      },
      "text/plain": [
       "interactive(children=(Dropdown(description='img', options=('1.jpg', '3.jpg'), value='1.jpg'), IntSlider(value=…"
      ]
     },
     "metadata": {},
     "output_type": "display_data"
    }
   ],
   "source": [
    "@interact\n",
    "def svd(img=os.listdir('images'),k=IntSlider(value=1,min=1,max=250,step=1,description='NO OF COMPONENTS:',\\\n",
    "                                             style={'description_width': 'initial', 'width': '2000px'},continuous_update=False,orientation='horizontal',layout=dict(width='95%'))):\n",
    "        \n",
    "    fig,a =  plt.subplots(1,2,figsize=(14,14))\n",
    "    a[0].set_title(\"COMPRESSED IMAGE\")\n",
    "    a[1].set_title(\"ORIGNAL IMAGE\")\n",
    "    dims=(600,600)\n",
    "    im =  np.array(Image.open(os.path.join('images',img)).resize(dims))\n",
    "    im=im/255.0\n",
    "    plt_images(im,a[1])\n",
    "    flatim=im.flatten()\n",
    "    flatim=im.flatten().reshape(-1,3)\n",
    "    u, s, v = decomposition.randomized_svd(flatim, k)\n",
    "    low_rank = u @ np.diag(s) @ v\n",
    "    print(u.shape)\n",
    "    low_rank=low_rank.reshape(dims+(3,))\n",
    "    plt_images(low_rank,a[0])\n",
    "    plt.show()\n",
    "    data_needed=3*(k*(dims[0]+dims[1])+k)#size of v,d +k\n",
    "    print(\"\\t\\tUSING {} COMPONENTs and {} DATA POINTS OUT OF ORIGNAL {} POINTS.\".format(k,data_needed,3*(dims[0]*dims[1])))\n",
    "#     b.imshow(np.reshape(flatim[:], dims), cmap='gray')"
   ]
  }
 ],
 "metadata": {
  "kernelspec": {
   "display_name": "Python 3.8.2 64-bit",
   "language": "python",
   "name": "python38264bit51231895ce2f47ecb8039e8f93a6f632"
  },
  "language_info": {
   "codemirror_mode": {
    "name": "ipython",
    "version": 3
   },
   "file_extension": ".py",
   "mimetype": "text/x-python",
   "name": "python",
   "nbconvert_exporter": "python",
   "pygments_lexer": "ipython3",
   "version": "3.8.3"
  }
 },
 "nbformat": 4,
 "nbformat_minor": 4
}
